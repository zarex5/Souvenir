{
 "metadata": {
  "language_info": {
   "codemirror_mode": {
    "name": "ipython",
    "version": 3
   },
   "file_extension": ".py",
   "mimetype": "text/x-python",
   "name": "python",
   "nbconvert_exporter": "python",
   "pygments_lexer": "ipython3",
   "version": "3.7.9-final"
  },
  "orig_nbformat": 2,
  "kernelspec": {
   "name": "python3",
   "display_name": "Python 3.7.9 64-bit ('ethereum': conda)",
   "metadata": {
    "interpreter": {
     "hash": "954991da64731bc50a2e2dc7ca22815c0ddb2f7762b0625eac838aa39ee8bc12"
    }
   }
  }
 },
 "nbformat": 4,
 "nbformat_minor": 2,
 "cells": [
  {
   "cell_type": "code",
   "execution_count": 10,
   "metadata": {},
   "outputs": [
    {
     "output_type": "execute_result",
     "data": {
      "text/plain": [
       "True"
      ]
     },
     "metadata": {},
     "execution_count": 10
    }
   ],
   "source": [
    "from dotenv import load_dotenv\n",
    "from pathlib import Path\n",
    "import json\n",
    "\n",
    "load_dotenv()"
   ]
  },
  {
   "cell_type": "code",
   "execution_count": 11,
   "metadata": {},
   "outputs": [
    {
     "output_type": "stream",
     "name": "stdout",
     "text": [
      "<class 'str'>\n<class 'str'>\n"
     ]
    }
   ],
   "source": [
    "headers = {\r\n",
    "    # \"Content-Type\": \"application/json\",\r\n",
    "    \"pinata_api_key\": os.getenv(\"PINATA_API_KEY\"),\r\n",
    "    \"pinata_secret_api_key\": os.getenv(\"PINATA_SECRET_API_KEY\"),\r\n",
    "}\r\n",
    "print(type(headers['pinata_api_key']))\r\n",
    "print(type(headers['pinata_secret_api_key']))"
   ]
  },
  {
   "cell_type": "code",
   "execution_count": 18,
   "metadata": {},
   "outputs": [
    {
     "output_type": "execute_result",
     "data": {
      "text/plain": [
       "'{\"IpfsHash\":\"QmbKHYq6yiB9g4aUk2ckr54Cfk6WfZ95SoduE7aeSiGdFo\",\"PinSize\":135876,\"Timestamp\":\"2021-03-20T03:39:30.974Z\"}'"
      ]
     },
     "metadata": {},
     "execution_count": 18
    }
   ],
   "source": [
    "import requests\n",
    "\n",
    "r = requests.post(\n",
    "        \"https://api.pinata.cloud/pinning/pinFileToIPFS\", \n",
    "        headers=headers,\n",
    "        files={'file': open(Path('./pics/philadelphia_night_skyline_us.png'),'rb')}\n",
    "    )\n",
    "\n",
    "r.text"
   ]
  },
  {
   "cell_type": "code",
   "execution_count": 16,
   "metadata": {},
   "outputs": [
    {
     "output_type": "execute_result",
     "data": {
      "text/plain": [
       "<Response [200]>"
      ]
     },
     "metadata": {},
     "execution_count": 16
    }
   ],
   "source": [
    "requests.post(\"http://localhost:105/pin-image\",files = {'file': open(Path('./pics/myface.png'),'rb')})"
   ]
  }
 ]
}