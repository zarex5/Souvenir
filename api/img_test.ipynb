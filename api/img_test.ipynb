{
 "metadata": {
  "language_info": {
   "codemirror_mode": {
    "name": "ipython",
    "version": 3
   },
   "file_extension": ".py",
   "mimetype": "text/x-python",
   "name": "python",
   "nbconvert_exporter": "python",
   "pygments_lexer": "ipython3",
   "version": "3.7.9-final"
  },
  "orig_nbformat": 2,
  "kernelspec": {
   "name": "python3",
   "display_name": "Python 3.7.9 64-bit ('ethereum': conda)",
   "metadata": {
    "interpreter": {
     "hash": "954991da64731bc50a2e2dc7ca22815c0ddb2f7762b0625eac838aa39ee8bc12"
    }
   }
  }
 },
 "nbformat": 4,
 "nbformat_minor": 2,
 "cells": [
  {
   "cell_type": "code",
   "execution_count": 49,
   "metadata": {},
   "outputs": [],
   "source": [
    "from PIL import Image, ImageFont, ImageDraw \n",
    "from pathlib import Path\n",
    "\n",
    "my_image = Image.open(\"./test_pics/philadelphia_night_skyline_us.jpg\")\n",
    "title_font = ImageFont.truetype('roboto/Roboto-Bold.ttf', int(image_editable.im.size[0]*0.05) )\n",
    "title_text = \"Philly\""
   ]
  },
  {
   "source": [
    "### Functionalize"
   ],
   "cell_type": "markdown",
   "metadata": {}
  },
  {
   "cell_type": "code",
   "execution_count": 52,
   "metadata": {},
   "outputs": [
    {
     "output_type": "error",
     "ename": "SyntaxError",
     "evalue": "invalid syntax (<ipython-input-52-6c0a0472f8a1>, line 1)",
     "traceback": [
      "\u001b[1;36m  File \u001b[1;32m\"<ipython-input-52-6c0a0472f8a1>\"\u001b[1;36m, line \u001b[1;32m1\u001b[0m\n\u001b[1;33m    def put_title(image,city_name,)\u001b[0m\n\u001b[1;37m                                   ^\u001b[0m\n\u001b[1;31mSyntaxError\u001b[0m\u001b[1;31m:\u001b[0m invalid syntax\n"
     ]
    }
   ],
   "source": [
    "def put_title(image,city_name):\n",
    "    image_editable = ImageDraw.Draw(image)\n",
    "\n",
    "    half_image_width = image_editable.im.size[0]/2\n",
    "    half_text_width = title_font.getsize(title_text)[0]/2\n",
    "    half_text_height = title_font.getsize(title_text)[1]/2\n",
    "    entire_image_length = image_editable.im.size[1]\n",
    "    tenth_image_length = image_editable.im.size[1]*0.1\n",
    "\n",
    "    image_editable.text(\n",
    "                        ( half_image_width - half_text_width, entire_image_length - (tenth_image_length + half_text_height) ), # positioning (bottom center)\n",
    "                        city_name, # city name\n",
    "                        (255, 255, 255), # color\n",
    "                        font=title_font # font\n",
    "                        )\n",
    "\n",
    "    "
   ]
  },
  {
   "cell_type": "code",
   "execution_count": 50,
   "metadata": {},
   "outputs": [],
   "source": [
    "image_editable = ImageDraw.Draw(my_image)\n",
    "\n",
    "half_image_width = image_editable.im.size[0]/2\n",
    "half_text_width = title_font.getsize(title_text)[0]/2\n",
    "half_text_height = title_font.getsize(title_text)[1]/2\n",
    "entire_image_length = image_editable.im.size[1]\n",
    "tenth_image_length = image_editable.im.size[1]*0.1\n",
    "\n",
    "image_editable.text(\n",
    "                    ( half_image_width - half_text_width, entire_image_length - (tenth_image_length + half_text_height) ), # positioning (bottom center)\n",
    "                    title_text, # city name\n",
    "                    (255, 255, 255), # color\n",
    "                    font=title_font # font\n",
    "                    )\n",
    "\n",
    "my_image.save(\"result.jpg\")"
   ]
  }
 ]
}